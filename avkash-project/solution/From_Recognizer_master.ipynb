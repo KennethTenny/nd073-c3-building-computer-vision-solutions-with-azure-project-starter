{
 "cells": [
  {
   "cell_type": "markdown",
   "metadata": {},
   "source": [
    "https://docs.microsoft.com/en-us/azure/cognitive-services/form-recognizer/quickstarts/client-library?tabs=windows&pivots=programming-language-python&WT.mc_id=Portal-Microsoft_Azure_ProjectOxford\n",
    "\n",
    "\n",
    "## General Steps\n",
    "- Prepare with credentials\n",
    "- Problem Identification\n",
    "- Process to find solution\n",
    "- Checklist\n",
    "- Source - Local Files  | Azure blob storage\n",
    "\n",
    "## Topic Object Model\n",
    "\n",
    "- A: form_recognizer_client - query the service to recognize form fields and content. \n",
    "- B: form_training_client  - create and Manage custom models to improve recognition.\n",
    "\n",
    "##  Individual Topics to support in the lesson outline:\n",
    "- Analyze Layout\n",
    "- Analyze receipts\n",
    "- Analyze business cards\n",
    "- Analyze invoices\n",
    "- Analyze identity documents\n",
    "\n",
    "## Custom Training Model\n",
    "- 10 document to label\n",
    "- Training without label\n",
    "- Training with labels\n",
    "- Training\n",
    "- Validation\n",
    "- Final Scoring\n",
    "\n",
    "\n",
    "## Standout Work\n",
    "- Storing results to Azure Blog or outside Azure \n",
    "- Test images in Azure blob, run recognizer client, store data into Azure Blog"
   ]
  },
  {
   "cell_type": "code",
   "execution_count": null,
   "metadata": {},
   "outputs": [],
   "source": []
  }
 ],
 "metadata": {
  "kernelspec": {
   "display_name": "Python 3",
   "language": "python",
   "name": "python3"
  },
  "language_info": {
   "codemirror_mode": {
    "name": "ipython",
    "version": 3
   },
   "file_extension": ".py",
   "mimetype": "text/x-python",
   "name": "python",
   "nbconvert_exporter": "python",
   "pygments_lexer": "ipython3",
   "version": "3.8.3"
  }
 },
 "nbformat": 4,
 "nbformat_minor": 4
}
