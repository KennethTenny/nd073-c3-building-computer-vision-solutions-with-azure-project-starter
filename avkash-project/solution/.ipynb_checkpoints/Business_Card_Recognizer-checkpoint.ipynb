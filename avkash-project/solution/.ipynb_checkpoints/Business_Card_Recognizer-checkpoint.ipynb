{
 "cells": [
  {
   "cell_type": "markdown",
   "metadata": {},
   "source": [
    "## Azure Python SDK\n",
    "\n",
    "https://github.com/Azure/azure-sdk-for-python/tree/main/sdk/formrecognizer/azure-ai-formrecognizer"
   ]
  },
  {
   "cell_type": "code",
   "execution_count": 1,
   "metadata": {},
   "outputs": [
    {
     "name": "stdout",
     "output_type": "stream",
     "text": [
      "Requirement already satisfied: azure-ai-formrecognizer in /Users/avkashchauhan99/opt/anaconda3/lib/python3.8/site-packages (3.1.1)\n",
      "Requirement already satisfied: azure-common~=1.1 in /Users/avkashchauhan99/opt/anaconda3/lib/python3.8/site-packages (from azure-ai-formrecognizer) (1.1.27)\n",
      "Requirement already satisfied: azure-core<2.0.0,>=1.8.2 in /Users/avkashchauhan99/opt/anaconda3/lib/python3.8/site-packages (from azure-ai-formrecognizer) (1.15.0)\n",
      "Requirement already satisfied: msrest>=0.6.21 in /Users/avkashchauhan99/opt/anaconda3/lib/python3.8/site-packages (from azure-ai-formrecognizer) (0.6.21)\n",
      "Requirement already satisfied: six>=1.11.0 in /Users/avkashchauhan99/opt/anaconda3/lib/python3.8/site-packages (from azure-ai-formrecognizer) (1.15.0)\n",
      "Requirement already satisfied: requests>=2.18.4 in /Users/avkashchauhan99/opt/anaconda3/lib/python3.8/site-packages (from azure-core<2.0.0,>=1.8.2->azure-ai-formrecognizer) (2.24.0)\n",
      "Requirement already satisfied: requests-oauthlib>=0.5.0 in /Users/avkashchauhan99/opt/anaconda3/lib/python3.8/site-packages (from msrest>=0.6.21->azure-ai-formrecognizer) (1.3.0)\n",
      "Requirement already satisfied: isodate>=0.6.0 in /Users/avkashchauhan99/opt/anaconda3/lib/python3.8/site-packages (from msrest>=0.6.21->azure-ai-formrecognizer) (0.6.0)\n",
      "Requirement already satisfied: certifi>=2017.4.17 in /Users/avkashchauhan99/opt/anaconda3/lib/python3.8/site-packages (from msrest>=0.6.21->azure-ai-formrecognizer) (2020.6.20)\n",
      "Requirement already satisfied: idna<3,>=2.5 in /Users/avkashchauhan99/opt/anaconda3/lib/python3.8/site-packages (from requests>=2.18.4->azure-core<2.0.0,>=1.8.2->azure-ai-formrecognizer) (2.10)\n",
      "Requirement already satisfied: chardet<4,>=3.0.2 in /Users/avkashchauhan99/opt/anaconda3/lib/python3.8/site-packages (from requests>=2.18.4->azure-core<2.0.0,>=1.8.2->azure-ai-formrecognizer) (3.0.4)\n",
      "Requirement already satisfied: urllib3!=1.25.0,!=1.25.1,<1.26,>=1.21.1 in /Users/avkashchauhan99/opt/anaconda3/lib/python3.8/site-packages (from requests>=2.18.4->azure-core<2.0.0,>=1.8.2->azure-ai-formrecognizer) (1.25.9)\n",
      "Requirement already satisfied: oauthlib>=3.0.0 in /Users/avkashchauhan99/opt/anaconda3/lib/python3.8/site-packages (from requests-oauthlib>=0.5.0->msrest>=0.6.21->azure-ai-formrecognizer) (3.1.1)\n"
     ]
    }
   ],
   "source": [
    "!pip install azure-ai-formrecognizer --pre"
   ]
  },
  {
   "cell_type": "code",
   "execution_count": 2,
   "metadata": {
    "gather": {
     "logged": 1621492058191
    },
    "jupyter": {
     "outputs_hidden": false,
     "source_hidden": false
    },
    "nteract": {
     "transient": {
      "deleting": false
     }
    }
   },
   "outputs": [],
   "source": [
    "import os\n",
    "from azure.core.exceptions import ResourceNotFoundError\n",
    "from azure.ai.formrecognizer import FormRecognizerClient\n",
    "from azure.ai.formrecognizer import FormTrainingClient\n",
    "from azure.core.credentials import AzureKeyCredential"
   ]
  },
  {
   "cell_type": "code",
   "execution_count": 3,
   "metadata": {},
   "outputs": [],
   "source": [
    "from PIL import Image\n",
    "import requests\n",
    "import io\n",
    "\n",
    "from matplotlib.pyplot import imshow\n",
    "%matplotlib inline"
   ]
  },
  {
   "cell_type": "code",
   "execution_count": 4,
   "metadata": {
    "gather": {
     "logged": 1621492059396
    },
    "jupyter": {
     "outputs_hidden": false,
     "source_hidden": false
    },
    "nteract": {
     "transient": {
      "deleting": false
     }
    }
   },
   "outputs": [],
   "source": [
    "endpoint = \"https://avkash-form-rec.cognitiveservices.azure.com/\"\n",
    "key = \"5ec7d09277104720be739d80bb4bc384\""
   ]
  },
  {
   "cell_type": "code",
   "execution_count": 5,
   "metadata": {
    "gather": {
     "logged": 1621492062002
    },
    "jupyter": {
     "outputs_hidden": false,
     "source_hidden": false
    },
    "nteract": {
     "transient": {
      "deleting": false
     }
    }
   },
   "outputs": [],
   "source": [
    "form_recognizer_client = FormRecognizerClient(endpoint, AzureKeyCredential(key))"
   ]
  },
  {
   "cell_type": "code",
   "execution_count": 6,
   "metadata": {},
   "outputs": [],
   "source": [
    "idURL = \"https://venngage-wordpress.s3.amazonaws.com/uploads/2019/12/Blue-Triangle-Personal-Business-Card-Template.png\""
   ]
  },
  {
   "cell_type": "code",
   "execution_count": 9,
   "metadata": {},
   "outputs": [],
   "source": [
    "response = requests.get(idURL)\n",
    "image_bytes = io.BytesIO(response.content)\n",
    "\n",
    "img = Image.open(image_bytes)\n",
    "\n",
    "# Dont use, it open image in a window\n",
    "#img.show()"
   ]
  },
  {
   "cell_type": "code",
   "execution_count": 10,
   "metadata": {},
   "outputs": [
    {
     "data": {
      "text/plain": [
       "<matplotlib.image.AxesImage at 0x7fd29f36cbb0>"
      ]
     },
     "execution_count": 10,
     "metadata": {},
     "output_type": "execute_result"
    },
    {
     "data": {
      "image/png": "[encoded data removed]",
      "text/plain": [
       "<Figure size 432x288 with 1 Axes>"
      ]
     },
     "metadata": {
      "needs_background": "light"
     },
     "output_type": "display_data"
    }
   ],
   "source": [
    "imshow(img)"
   ]
  },
  {
   "cell_type": "markdown",
   "metadata": {},
   "source": [
    "### begin_recognize_business_cards_from_url\n",
    "### begin_recognize_business_cards\n",
    "\n",
    "https://github.com/Azure/azure-sdk-for-python/blob/main/sdk/formrecognizer/azure-ai-formrecognizer/samples/sample_recognize_business_cards.py"
   ]
  },
  {
   "cell_type": "code",
   "execution_count": 12,
   "metadata": {
    "gather": {
     "logged": 1621496586900
    },
    "jupyter": {
     "outputs_hidden": false,
     "source_hidden": false
    },
    "nteract": {
     "transient": {
      "deleting": false
     }
    }
   },
   "outputs": [
    {
     "name": "stdout",
     "output_type": "stream",
     "text": [
      "--------Recognizing business card #1--------\n",
      "Contact First Name: KIM LOU has confidence: 1.0\n",
      "Contact Last Name: WAN has confidence: 1.0\n",
      "Job Title: Managing Director has confidence: 0.99\n",
      "Email: info@creativedevelopers.com has confidence: 0.99\n",
      "Website: www.creativedevelopers.com has confidence: 0.99\n",
      "Address: 132 9th Street, Lakeview Lane NY 87903 has confidence: 0.987\n",
      "Other phone number: None has confidence: 0.989\n",
      "Other phone number: None has confidence: 0.987\n"
     ]
    }
   ],
   "source": [
    "#idURL = \"https://raw.githubusercontent.com/Azure-Samples/cognitive-services-REST-api-samples/master/curl/form-recognizer/id-license.jpg\"\n",
    "# idURL = \"https://dps.mn.gov/divisions/dvs/PublishingImages/new-cards/mn-adult-dl.jpg\"\n",
    "\n",
    "\n",
    "#poller = form_recognizer_client.begin_recognize_id_documents(idURL)\n",
    "poller = form_recognizer_client.begin_recognize_business_cards_from_url(idURL)\n",
    "business_cards = poller.result()\n",
    "\n",
    "for idx, business_card in enumerate(business_cards):\n",
    "            print(\"--------Recognizing business card #{}--------\".format(idx+1))\n",
    "            contact_names = business_card.fields.get(\"ContactNames\")\n",
    "            if contact_names:\n",
    "                for contact_name in contact_names.value:\n",
    "                    print(\"Contact First Name: {} has confidence: {}\".format(\n",
    "                        contact_name.value[\"FirstName\"].value, contact_name.value[\"FirstName\"].confidence\n",
    "                    ))\n",
    "                    print(\"Contact Last Name: {} has confidence: {}\".format(\n",
    "                        contact_name.value[\"LastName\"].value, contact_name.value[\"LastName\"].confidence\n",
    "                    ))\n",
    "            company_names = business_card.fields.get(\"CompanyNames\")\n",
    "            if company_names:\n",
    "                for company_name in company_names.value:\n",
    "                    print(\"Company Name: {} has confidence: {}\".format(company_name.value, company_name.confidence))\n",
    "            departments = business_card.fields.get(\"Departments\")\n",
    "            if departments:\n",
    "                for department in departments.value:\n",
    "                    print(\"Department: {} has confidence: {}\".format(department.value, department.confidence))\n",
    "            job_titles = business_card.fields.get(\"JobTitles\")\n",
    "            if job_titles:\n",
    "                for job_title in job_titles.value:\n",
    "                    print(\"Job Title: {} has confidence: {}\".format(job_title.value, job_title.confidence))\n",
    "            emails = business_card.fields.get(\"Emails\")\n",
    "            if emails:\n",
    "                for email in emails.value:\n",
    "                    print(\"Email: {} has confidence: {}\".format(email.value, email.confidence))\n",
    "            websites = business_card.fields.get(\"Websites\")\n",
    "            if websites:\n",
    "                for website in websites.value:\n",
    "                    print(\"Website: {} has confidence: {}\".format(website.value, website.confidence))\n",
    "            addresses = business_card.fields.get(\"Addresses\")\n",
    "            if addresses:\n",
    "                for address in addresses.value:\n",
    "                    print(\"Address: {} has confidence: {}\".format(address.value, address.confidence))\n",
    "            mobile_phones = business_card.fields.get(\"MobilePhones\")\n",
    "            if mobile_phones:\n",
    "                for phone in mobile_phones.value:\n",
    "                    print(\"Mobile phone number: {} has confidence: {}\".format(phone.value, phone.confidence))\n",
    "            faxes = business_card.fields.get(\"Faxes\")\n",
    "            if faxes:\n",
    "                for fax in faxes.value:\n",
    "                    print(\"Fax number: {} has confidence: {}\".format(fax.value, fax.confidence))\n",
    "            work_phones = business_card.fields.get(\"WorkPhones\")\n",
    "            if work_phones:\n",
    "                for work_phone in work_phones.value:\n",
    "                    print(\"Work phone number: {} has confidence: {}\".format(work_phone.value, work_phone.confidence))\n",
    "            other_phones = business_card.fields.get(\"OtherPhones\")\n",
    "            if other_phones:\n",
    "                for other_phone in other_phones.value:\n",
    "                    print(\"Other phone number: {} has confidence: {}\".format(other_phone.value, other_phone.confidence))"
   ]
  },
  {
   "cell_type": "code",
   "execution_count": null,
   "metadata": {
    "collapsed": true,
    "jupyter": {
     "outputs_hidden": false,
     "source_hidden": false
    },
    "nteract": {
     "transient": {
      "deleting": false
     }
    }
   },
   "outputs": [],
   "source": []
  }
 ],
 "metadata": {
  "kernel_info": {
   "name": "python3-azureml"
  },
  "kernelspec": {
   "display_name": "Python 3",
   "language": "python",
   "name": "python3"
  },
  "language_info": {
   "codemirror_mode": {
    "name": "ipython",
    "version": 3
   },
   "file_extension": ".py",
   "mimetype": "text/x-python",
   "name": "python",
   "nbconvert_exporter": "python",
   "pygments_lexer": "ipython3",
   "version": "3.8.3"
  },
  "microsoft": {
   "host": {
    "AzureML": {
     "notebookHasBeenCompleted": true
    }
   }
  },
  "nteract": {
   "version": "nteract-front-end@1.0.0"
  }
 },
 "nbformat": 4,
 "nbformat_minor": 2
}
