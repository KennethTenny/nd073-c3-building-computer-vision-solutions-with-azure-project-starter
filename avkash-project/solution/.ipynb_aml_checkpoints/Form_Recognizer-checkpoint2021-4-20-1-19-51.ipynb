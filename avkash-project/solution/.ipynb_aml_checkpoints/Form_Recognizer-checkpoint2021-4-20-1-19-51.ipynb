{
  "cells": [
    {
      "cell_type": "code",
      "source": [
        "!pip install azure-ai-formrecognizer --pre"
      ],
      "outputs": [
        {
          "output_type": "stream",
          "name": "stdout",
          "text": [
            "Requirement already satisfied: azure-ai-formrecognizer in /anaconda/envs/azureml_py36/lib/python3.6/site-packages (3.1.0b4)\r\n",
            "Requirement already satisfied: msrest>=0.6.21 in /anaconda/envs/azureml_py36/lib/python3.6/site-packages (from azure-ai-formrecognizer) (0.6.21)\r\n",
            "Requirement already satisfied: six>=1.11.0 in /anaconda/envs/azureml_py36/lib/python3.6/site-packages (from azure-ai-formrecognizer) (1.15.0)\r\n",
            "Requirement already satisfied: azure-common~=1.1 in /anaconda/envs/azureml_py36/lib/python3.6/site-packages (from azure-ai-formrecognizer) (1.1.27)\r\n",
            "Requirement already satisfied: azure-core<2.0.0,>=1.8.2 in /anaconda/envs/azureml_py36/lib/python3.6/site-packages (from azure-ai-formrecognizer) (1.13.0)\r\n",
            "Requirement already satisfied: certifi>=2017.4.17 in /anaconda/envs/azureml_py36/lib/python3.6/site-packages (from msrest>=0.6.21->azure-ai-formrecognizer) (2020.12.5)\r\n",
            "Requirement already satisfied: requests~=2.16 in /anaconda/envs/azureml_py36/lib/python3.6/site-packages (from msrest>=0.6.21->azure-ai-formrecognizer) (2.25.1)\r\n",
            "Requirement already satisfied: isodate>=0.6.0 in /anaconda/envs/azureml_py36/lib/python3.6/site-packages (from msrest>=0.6.21->azure-ai-formrecognizer) (0.6.0)\r\n",
            "Requirement already satisfied: requests-oauthlib>=0.5.0 in /anaconda/envs/azureml_py36/lib/python3.6/site-packages (from msrest>=0.6.21->azure-ai-formrecognizer) (1.3.0)\r\n",
            "Requirement already satisfied: idna<3,>=2.5 in /anaconda/envs/azureml_py36/lib/python3.6/site-packages (from requests~=2.16->msrest>=0.6.21->azure-ai-formrecognizer) (2.10)\r\n",
            "Requirement already satisfied: chardet<5,>=3.0.2 in /anaconda/envs/azureml_py36/lib/python3.6/site-packages (from requests~=2.16->msrest>=0.6.21->azure-ai-formrecognizer) (4.0.0)\r\n",
            "Requirement already satisfied: urllib3<1.27,>=1.21.1 in /anaconda/envs/azureml_py36/lib/python3.6/site-packages (from requests~=2.16->msrest>=0.6.21->azure-ai-formrecognizer) (1.25.11)\r\n",
            "Requirement already satisfied: oauthlib>=3.0.0 in /anaconda/envs/azureml_py36/lib/python3.6/site-packages (from requests-oauthlib>=0.5.0->msrest>=0.6.21->azure-ai-formrecognizer) (3.1.0)\r\n"
          ]
        }
      ],
      "execution_count": 1,
      "metadata": {}
    },
    {
      "cell_type": "code",
      "source": [
        "import os\n",
        "from azure.core.exceptions import ResourceNotFoundError\n",
        "from azure.ai.formrecognizer import FormRecognizerClient\n",
        "from azure.ai.formrecognizer import FormTrainingClient\n",
        "from azure.core.credentials import AzureKeyCredential"
      ],
      "outputs": [],
      "execution_count": 3,
      "metadata": {
        "collapsed": true,
        "jupyter": {
          "source_hidden": false,
          "outputs_hidden": false
        },
        "nteract": {
          "transient": {
            "deleting": false
          }
        },
        "gather": {
          "logged": 1618863924903
        }
      }
    },
    {
      "cell_type": "code",
      "source": [
        "endpoint = \"https://formrecognizer-v1.cognitiveservices.azure.com/\"\n",
        "key = \"2b00d64f636e45a69f04ff7fe45d34e8\""
      ],
      "outputs": [],
      "execution_count": 4,
      "metadata": {
        "collapsed": true,
        "jupyter": {
          "source_hidden": false,
          "outputs_hidden": false
        },
        "nteract": {
          "transient": {
            "deleting": false
          }
        },
        "gather": {
          "logged": 1618863926165
        }
      }
    },
    {
      "cell_type": "code",
      "source": [
        "form_recognizer_client = FormRecognizerClient(endpoint, AzureKeyCredential(key))\n",
        "#form_training_client = FormTrainingClient(endpoint, AzureKeyCredential(key))"
      ],
      "outputs": [],
      "execution_count": 5,
      "metadata": {
        "collapsed": true,
        "jupyter": {
          "source_hidden": false,
          "outputs_hidden": false
        },
        "nteract": {
          "transient": {
            "deleting": false
          }
        },
        "gather": {
          "logged": 1618863927920
        }
      }
    },
    {
      "cell_type": "code",
      "source": [
        "idURL = \"https://raw.githubusercontent.com/Azure-Samples/cognitive-services-REST-api-samples/master/curl/form-recognizer/id-license.jpg\"\n",
        "\n",
        "#poller = form_recognizer_client.begin_recognize_id_documents(idURL)\n",
        "poller = form_recognizer_client.begin_recognize_id_documents_from_url(idURL)\n",
        "id_documents = poller.result()\n",
        "\n",
        "for idx, id_document in enumerate(id_documents):\n",
        "    print(\"--------Recognizing ID document #{}--------\".format(idx+1))\n",
        "    first_name = id_document.fields.get(\"FirstName\")\n",
        "    if first_name:\n",
        "        print(\"First Name: {} has confidence: {}\".format(first_name.value, first_name.confidence))\n",
        "    last_name = id_document.fields.get(\"LastName\")\n",
        "    if last_name:\n",
        "        print(\"Last Name: {} has confidence: {}\".format(last_name.value, last_name.confidence))\n",
        "    ##document_number = id_document.fields.get(\"DocumentNumber\")\n",
        "    ##if document_number:\n",
        "    ##    print(\"Document Number: {} has confidence: {}\".format(document_number.value, document_number.confidence))\n",
        "    dob = id_document.fields.get(\"DateOfBirth\")\n",
        "    ##if dob:\n",
        "        print(\"Date of Birth: {} has confidence: {}\".format(dob.value, dob.confidence))\n",
        "    doe = id_document.fields.get(\"DateOfExpiration\")\n",
        "    if doe:\n",
        "        print(\"Date of Expiration: {} has confidence: {}\".format(doe.value, doe.confidence))\n",
        "    sex = id_document.fields.get(\"Sex\")\n",
        "    if sex:\n",
        "        print(\"Sex: {} has confidence: {}\".format(sex.value, sex.confidence))\n",
        "    address = id_document.fields.get(\"Address\")\n",
        "    if address:\n",
        "        print(\"Address: {} has confidence: {}\".format(address.value, address.confidence))\n",
        "    country = id_document.fields.get(\"Country\")\n",
        "    if country:\n",
        "        print(\"Country: {} has confidence: {}\".format(country.value, country.confidence))\n",
        "    region = id_document.fields.get(\"Region\")\n",
        "    if region:\n",
        "        print(\"Region: {} has confidence: {}\".format(region.value, region.confidence))"
      ],
      "outputs": [
        {
          "output_type": "stream",
          "name": "stdout",
          "text": [
            "--------Recognizing ID document #1--------\n",
            "First Name: LIAM R. has confidence: 0.985\n",
            "Last Name: TALBOT has confidence: 0.987\n",
            "Document Number: LICWDLACD5DG has confidence: 0.99\n",
            "Date of Birth: 1958-01-06 has confidence: 0.99\n",
            "Date of Expiration: 2020-08-12 has confidence: 0.99\n",
            "Sex: M has confidence: 0.99\n",
            "Address: 123 STREET ADDRESS YOUR CITY WA 99999-1234 has confidence: 0.965\n",
            "Country: USA has confidence: 0.99\n",
            "Region: Washington has confidence: 0.99\n"
          ]
        }
      ],
      "execution_count": 8,
      "metadata": {
        "collapsed": true,
        "jupyter": {
          "source_hidden": false,
          "outputs_hidden": false
        },
        "nteract": {
          "transient": {
            "deleting": false
          }
        },
        "gather": {
          "logged": 1618810831028
        }
      }
    },
    {
      "cell_type": "code",
      "source": [
        "idURL = '~/48_usa_passportcard.tif'\n",
        "\n",
        "\n",
        "poller = form_recognizer_client.begin_recognize_id_documents(idURL,content_type = 'image/tiff')\n",
        "id_documents = poller.result()\n",
        "\n",
        "for idx, id_document in enumerate(id_documents):\n",
        "    print(\"--------Recognizing ID document #{}--------\".format(idx+1))\n",
        "    first_name = id_document.fields.get(\"FirstName\")\n",
        "    if first_name:\n",
        "        print(\"First Name: {} has confidence: {}\".format(first_name.value, first_name.confidence))\n",
        "    last_name = id_document.fields.get(\"LastName\")\n",
        "    if last_name:\n",
        "        print(\"Last Name: {} has confidence: {}\".format(last_name.value, last_name.confidence))\n",
        "    document_number = id_document.fields.get(\"DocumentNumber\")\n",
        "    if document_number:\n",
        "        print(\"Document Number: {} has confidence: {}\".format(document_number.value, document_number.confidence))\n",
        "    dob = id_document.fields.get(\"DateOfBirth\")\n",
        "    if dob:\n",
        "        print(\"Date of Birth: {} has confidence: {}\".format(dob.value, dob.confidence))\n",
        "    doe = id_document.fields.get(\"DateOfExpiration\")\n",
        "    if doe:\n",
        "        print(\"Date of Expiration: {} has confidence: {}\".format(doe.value, doe.confidence))\n",
        "    sex = id_document.fields.get(\"Sex\")\n",
        "    if sex:\n",
        "        print(\"Sex: {} has confidence: {}\".format(sex.value, sex.confidence))\n",
        "    address = id_document.fields.get(\"Address\")\n",
        "    if address:\n",
        "        print(\"Address: {} has confidence: {}\".format(address.value, address.confidence))\n",
        "    country = id_document.fields.get(\"Country\")\n",
        "    if country:\n",
        "        print(\"Country: {} has confidence: {}\".format(country.value, country.confidence))\n",
        "    region = id_document.fields.get(\"Region\")\n",
        "    if region:\n",
        "        print(\"Region: {} has confidence: {}\".format(region.value, region.confidence))"
      ],
      "outputs": [
        {
          "output_type": "error",
          "ename": "HttpResponseError",
          "evalue": "(InvalidImage) The input data is not a valid image or password protected.",
          "traceback": [
            "\u001b[0;31m---------------------------------------------------------------------------\u001b[0m",
            "\u001b[0;31mHttpResponseError\u001b[0m                         Traceback (most recent call last)",
            "\u001b[0;32m<ipython-input-11-81ee3dd4cc2d>\u001b[0m in \u001b[0;36m<module>\u001b[0;34m\u001b[0m\n\u001b[1;32m      2\u001b[0m \u001b[0;34m\u001b[0m\u001b[0m\n\u001b[1;32m      3\u001b[0m \u001b[0;34m\u001b[0m\u001b[0m\n\u001b[0;32m----> 4\u001b[0;31m \u001b[0mpoller\u001b[0m \u001b[0;34m=\u001b[0m \u001b[0mform_recognizer_client\u001b[0m\u001b[0;34m.\u001b[0m\u001b[0mbegin_recognize_id_documents\u001b[0m\u001b[0;34m(\u001b[0m\u001b[0midURL\u001b[0m\u001b[0;34m,\u001b[0m\u001b[0mcontent_type\u001b[0m \u001b[0;34m=\u001b[0m \u001b[0;34m'image/tiff'\u001b[0m\u001b[0;34m)\u001b[0m\u001b[0;34m\u001b[0m\u001b[0;34m\u001b[0m\u001b[0m\n\u001b[0m\u001b[1;32m      5\u001b[0m \u001b[0mid_documents\u001b[0m \u001b[0;34m=\u001b[0m \u001b[0mpoller\u001b[0m\u001b[0;34m.\u001b[0m\u001b[0mresult\u001b[0m\u001b[0;34m(\u001b[0m\u001b[0;34m)\u001b[0m\u001b[0;34m\u001b[0m\u001b[0;34m\u001b[0m\u001b[0m\n\u001b[1;32m      6\u001b[0m \u001b[0;34m\u001b[0m\u001b[0m\n",
            "\u001b[0;32m/anaconda/envs/azureml_py36/lib/python3.6/site-packages/azure/core/tracing/decorator.py\u001b[0m in \u001b[0;36mwrapper_use_tracer\u001b[0;34m(*args, **kwargs)\u001b[0m\n\u001b[1;32m     81\u001b[0m             \u001b[0mspan_impl_type\u001b[0m \u001b[0;34m=\u001b[0m \u001b[0msettings\u001b[0m\u001b[0;34m.\u001b[0m\u001b[0mtracing_implementation\u001b[0m\u001b[0;34m(\u001b[0m\u001b[0;34m)\u001b[0m\u001b[0;34m\u001b[0m\u001b[0;34m\u001b[0m\u001b[0m\n\u001b[1;32m     82\u001b[0m             \u001b[0;32mif\u001b[0m \u001b[0mspan_impl_type\u001b[0m \u001b[0;32mis\u001b[0m \u001b[0;32mNone\u001b[0m\u001b[0;34m:\u001b[0m\u001b[0;34m\u001b[0m\u001b[0;34m\u001b[0m\u001b[0m\n\u001b[0;32m---> 83\u001b[0;31m                 \u001b[0;32mreturn\u001b[0m \u001b[0mfunc\u001b[0m\u001b[0;34m(\u001b[0m\u001b[0;34m*\u001b[0m\u001b[0margs\u001b[0m\u001b[0;34m,\u001b[0m \u001b[0;34m**\u001b[0m\u001b[0mkwargs\u001b[0m\u001b[0;34m)\u001b[0m\u001b[0;34m\u001b[0m\u001b[0;34m\u001b[0m\u001b[0m\n\u001b[0m\u001b[1;32m     84\u001b[0m \u001b[0;34m\u001b[0m\u001b[0m\n\u001b[1;32m     85\u001b[0m             \u001b[0;31m# Merge span is parameter is set, but only if no explicit parent are passed\u001b[0m\u001b[0;34m\u001b[0m\u001b[0;34m\u001b[0m\u001b[0;34m\u001b[0m\u001b[0m\n",
            "\u001b[0;32m/anaconda/envs/azureml_py36/lib/python3.6/site-packages/azure/ai/formrecognizer/_form_recognizer_client.py\u001b[0m in \u001b[0;36mbegin_recognize_id_documents\u001b[0;34m(self, id_document, **kwargs)\u001b[0m\n\u001b[1;32m    402\u001b[0m                 \u001b[0mcls\u001b[0m\u001b[0;34m=\u001b[0m\u001b[0mkwargs\u001b[0m\u001b[0;34m.\u001b[0m\u001b[0mpop\u001b[0m\u001b[0;34m(\u001b[0m\u001b[0;34m\"cls\"\u001b[0m\u001b[0;34m,\u001b[0m \u001b[0mself\u001b[0m\u001b[0;34m.\u001b[0m\u001b[0m_prebuilt_callback\u001b[0m\u001b[0;34m)\u001b[0m\u001b[0;34m,\u001b[0m\u001b[0;34m\u001b[0m\u001b[0;34m\u001b[0m\u001b[0m\n\u001b[1;32m    403\u001b[0m                 \u001b[0mpolling\u001b[0m\u001b[0;34m=\u001b[0m\u001b[0;32mTrue\u001b[0m\u001b[0;34m,\u001b[0m\u001b[0;34m\u001b[0m\u001b[0;34m\u001b[0m\u001b[0m\n\u001b[0;32m--> 404\u001b[0;31m                 \u001b[0;34m**\u001b[0m\u001b[0mkwargs\u001b[0m\u001b[0;34m\u001b[0m\u001b[0;34m\u001b[0m\u001b[0m\n\u001b[0m\u001b[1;32m    405\u001b[0m             )\n\u001b[1;32m    406\u001b[0m         \u001b[0;32mexcept\u001b[0m \u001b[0mValueError\u001b[0m \u001b[0;32mas\u001b[0m \u001b[0me\u001b[0m\u001b[0;34m:\u001b[0m\u001b[0;34m\u001b[0m\u001b[0;34m\u001b[0m\u001b[0m\n",
            "\u001b[0;32m/anaconda/envs/azureml_py36/lib/python3.6/site-packages/azure/ai/formrecognizer/_generated/_operations_mixin.py\u001b[0m in \u001b[0;36mbegin_analyze_id_document_async\u001b[0;34m(self, include_text_details, pages, file_stream, **kwargs)\u001b[0m\n\u001b[1;32m    123\u001b[0m         \u001b[0mmixin_instance\u001b[0m\u001b[0;34m.\u001b[0m\u001b[0m_serialize\u001b[0m\u001b[0;34m.\u001b[0m\u001b[0mclient_side_validation\u001b[0m \u001b[0;34m=\u001b[0m \u001b[0;32mFalse\u001b[0m\u001b[0;34m\u001b[0m\u001b[0;34m\u001b[0m\u001b[0m\n\u001b[1;32m    124\u001b[0m         \u001b[0mmixin_instance\u001b[0m\u001b[0;34m.\u001b[0m\u001b[0m_deserialize\u001b[0m \u001b[0;34m=\u001b[0m \u001b[0mDeserializer\u001b[0m\u001b[0;34m(\u001b[0m\u001b[0mself\u001b[0m\u001b[0;34m.\u001b[0m\u001b[0m_models_dict\u001b[0m\u001b[0;34m(\u001b[0m\u001b[0mapi_version\u001b[0m\u001b[0;34m)\u001b[0m\u001b[0;34m)\u001b[0m\u001b[0;34m\u001b[0m\u001b[0;34m\u001b[0m\u001b[0m\n\u001b[0;32m--> 125\u001b[0;31m         \u001b[0;32mreturn\u001b[0m \u001b[0mmixin_instance\u001b[0m\u001b[0;34m.\u001b[0m\u001b[0mbegin_analyze_id_document_async\u001b[0m\u001b[0;34m(\u001b[0m\u001b[0minclude_text_details\u001b[0m\u001b[0;34m,\u001b[0m \u001b[0mpages\u001b[0m\u001b[0;34m,\u001b[0m \u001b[0mfile_stream\u001b[0m\u001b[0;34m,\u001b[0m \u001b[0;34m**\u001b[0m\u001b[0mkwargs\u001b[0m\u001b[0;34m)\u001b[0m\u001b[0;34m\u001b[0m\u001b[0;34m\u001b[0m\u001b[0m\n\u001b[0m\u001b[1;32m    126\u001b[0m \u001b[0;34m\u001b[0m\u001b[0m\n\u001b[1;32m    127\u001b[0m     def begin_analyze_invoice_async(\n",
            "\u001b[0;32m/anaconda/envs/azureml_py36/lib/python3.6/site-packages/azure/ai/formrecognizer/_generated/v2_1_preview_3/operations/_form_recognizer_client_operations.py\u001b[0m in \u001b[0;36mbegin_analyze_id_document_async\u001b[0;34m(self, include_text_details, pages, file_stream, **kwargs)\u001b[0m\n\u001b[1;32m   1339\u001b[0m                 \u001b[0mfile_stream\u001b[0m\u001b[0;34m=\u001b[0m\u001b[0mfile_stream\u001b[0m\u001b[0;34m,\u001b[0m\u001b[0;34m\u001b[0m\u001b[0;34m\u001b[0m\u001b[0m\n\u001b[1;32m   1340\u001b[0m                 \u001b[0mcls\u001b[0m\u001b[0;34m=\u001b[0m\u001b[0;32mlambda\u001b[0m \u001b[0mx\u001b[0m\u001b[0;34m,\u001b[0m\u001b[0my\u001b[0m\u001b[0;34m,\u001b[0m\u001b[0mz\u001b[0m\u001b[0;34m:\u001b[0m \u001b[0mx\u001b[0m\u001b[0;34m,\u001b[0m\u001b[0;34m\u001b[0m\u001b[0;34m\u001b[0m\u001b[0m\n\u001b[0;32m-> 1341\u001b[0;31m                 \u001b[0;34m**\u001b[0m\u001b[0mkwargs\u001b[0m\u001b[0;34m\u001b[0m\u001b[0;34m\u001b[0m\u001b[0m\n\u001b[0m\u001b[1;32m   1342\u001b[0m             )\n\u001b[1;32m   1343\u001b[0m \u001b[0;34m\u001b[0m\u001b[0m\n",
            "\u001b[0;32m/anaconda/envs/azureml_py36/lib/python3.6/site-packages/azure/ai/formrecognizer/_generated/v2_1_preview_3/operations/_form_recognizer_client_operations.py\u001b[0m in \u001b[0;36m_analyze_id_document_async_initial\u001b[0;34m(self, include_text_details, pages, file_stream, **kwargs)\u001b[0m\n\u001b[1;32m   1281\u001b[0m             \u001b[0mmap_error\u001b[0m\u001b[0;34m(\u001b[0m\u001b[0mstatus_code\u001b[0m\u001b[0;34m=\u001b[0m\u001b[0mresponse\u001b[0m\u001b[0;34m.\u001b[0m\u001b[0mstatus_code\u001b[0m\u001b[0;34m,\u001b[0m \u001b[0mresponse\u001b[0m\u001b[0;34m=\u001b[0m\u001b[0mresponse\u001b[0m\u001b[0;34m,\u001b[0m \u001b[0merror_map\u001b[0m\u001b[0;34m=\u001b[0m\u001b[0merror_map\u001b[0m\u001b[0;34m)\u001b[0m\u001b[0;34m\u001b[0m\u001b[0;34m\u001b[0m\u001b[0m\n\u001b[1;32m   1282\u001b[0m             \u001b[0merror\u001b[0m \u001b[0;34m=\u001b[0m \u001b[0mself\u001b[0m\u001b[0;34m.\u001b[0m\u001b[0m_deserialize\u001b[0m\u001b[0;34m.\u001b[0m\u001b[0mfailsafe_deserialize\u001b[0m\u001b[0;34m(\u001b[0m\u001b[0m_models\u001b[0m\u001b[0;34m.\u001b[0m\u001b[0mErrorResponse\u001b[0m\u001b[0;34m,\u001b[0m \u001b[0mresponse\u001b[0m\u001b[0;34m)\u001b[0m\u001b[0;34m\u001b[0m\u001b[0;34m\u001b[0m\u001b[0m\n\u001b[0;32m-> 1283\u001b[0;31m             \u001b[0;32mraise\u001b[0m \u001b[0mHttpResponseError\u001b[0m\u001b[0;34m(\u001b[0m\u001b[0mresponse\u001b[0m\u001b[0;34m=\u001b[0m\u001b[0mresponse\u001b[0m\u001b[0;34m,\u001b[0m \u001b[0mmodel\u001b[0m\u001b[0;34m=\u001b[0m\u001b[0merror\u001b[0m\u001b[0;34m)\u001b[0m\u001b[0;34m\u001b[0m\u001b[0;34m\u001b[0m\u001b[0m\n\u001b[0m\u001b[1;32m   1284\u001b[0m \u001b[0;34m\u001b[0m\u001b[0m\n\u001b[1;32m   1285\u001b[0m         \u001b[0mresponse_headers\u001b[0m \u001b[0;34m=\u001b[0m \u001b[0;34m{\u001b[0m\u001b[0;34m}\u001b[0m\u001b[0;34m\u001b[0m\u001b[0;34m\u001b[0m\u001b[0m\n",
            "\u001b[0;31mHttpResponseError\u001b[0m: (InvalidImage) The input data is not a valid image or password protected."
          ]
        }
      ],
      "execution_count": 11,
      "metadata": {
        "collapsed": true,
        "jupyter": {
          "source_hidden": false,
          "outputs_hidden": false
        },
        "nteract": {
          "transient": {
            "deleting": false
          }
        }
      }
    },
    {
      "cell_type": "code",
      "source": [
        "print(idURL)"
      ],
      "outputs": [
        {
          "output_type": "stream",
          "name": "stdout",
          "text": [
            "~/48_usa_passportcard.tif\n"
          ]
        }
      ],
      "execution_count": 13,
      "metadata": {
        "collapsed": true,
        "jupyter": {
          "source_hidden": false,
          "outputs_hidden": false
        },
        "nteract": {
          "transient": {
            "deleting": false
          }
        },
        "gather": {
          "logged": 1618811991669
        }
      }
    },
    {
      "cell_type": "code",
      "source": [],
      "outputs": [],
      "execution_count": null,
      "metadata": {
        "collapsed": true,
        "jupyter": {
          "source_hidden": false,
          "outputs_hidden": false
        },
        "nteract": {
          "transient": {
            "deleting": false
          }
        }
      }
    }
  ],
  "metadata": {
    "kernelspec": {
      "name": "python3-azureml",
      "language": "python",
      "display_name": "Python 3.6 - AzureML"
    },
    "language_info": {
      "name": "python",
      "version": "3.6.9",
      "mimetype": "text/x-python",
      "codemirror_mode": {
        "name": "ipython",
        "version": 3
      },
      "pygments_lexer": "ipython3",
      "nbconvert_exporter": "python",
      "file_extension": ".py"
    },
    "kernel_info": {
      "name": "python3-azureml"
    },
    "microsoft": {
      "host": {
        "AzureML": {
          "notebookHasBeenCompleted": true
        }
      }
    },
    "nteract": {
      "version": "nteract-front-end@1.0.0"
    }
  },
  "nbformat": 4,
  "nbformat_minor": 2
}